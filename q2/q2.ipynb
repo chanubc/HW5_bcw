{
 "cells": [
  {
   "cell_type": "code",
   "execution_count": 1,
   "id": "d9b4c869",
   "metadata": {},
   "outputs": [
    {
     "name": "stdout",
     "output_type": "stream",
     "text": [
      "2022-11-29 16.6\n",
      "2022-06-29 1.7\n",
      "*** Anunual Temperature Report for Seoul in 2022 ***\n",
      "Day with the Largest Temperature Variation: 2022-11-29\n",
      "Maximum Temperature Difference: 16.6 Celsius\n",
      "Day with the Smallest Temperature Variation: 2022-06-29\n",
      "Minimum Temperature Difference: 1.7 Celsius\n"
     ]
    }
   ],
   "source": [
    "import csv\n",
    "\n",
    "def main():\n",
    "    f = open('Seoul_Temp.csv','r',encoding='cp949')\n",
    "    data = csv.reader(f)\n",
    "    header = next(data)\n",
    "    \n",
    "    day = 0\n",
    "    maxDay = 0\n",
    "    lowDay = float(\"inf\")\n",
    "    low_date = \"\"\n",
    "    \n",
    "    #일교차 = 최고기온-최저기온\n",
    "    for row in data:\n",
    "        if(row[-1]==''):\n",
    "            continue\n",
    "        if(row[-2]==''):\n",
    "            continue\n",
    "        row[-1] = float(row[-1])\n",
    "        row[-2] = float(row[-2])\n",
    "        day = row[-1] - row[-2]\n",
    "        if(maxDay<day):\n",
    "            max_date = row[0]          \n",
    "            maxDay = day\n",
    "        if(lowDay>day):\n",
    "            low_date = row[0]\n",
    "            lowDay = day\n",
    "            \n",
    "    for a in data:\n",
    "        if(a[-1]==''):\n",
    "            continue\n",
    "        if(a[-2]==''):\n",
    "            continue\n",
    "        a[-1] = float(a[-1])\n",
    "        a[-2] = float(a[-2])\n",
    "        day = a[-1] - a[-2]\n",
    "        if(lowDay>day):\n",
    "            low_date = a[0]\n",
    "            lowDay = day\n",
    "    \n",
    "    \n",
    "    f.close()\n",
    "    print(max_date,maxDay)\n",
    "    print(low_date,format(lowDay,\".1f\"))\n",
    "    \n",
    "    print(\"*** Anunual Temperature Report for Seoul in 2022 ***\")\n",
    "    print(\"Day with the Largest Temperature Variation:\",max_date)\n",
    "    print(\"Maximum Temperature Difference:\",maxDay,\"Celsius\")\n",
    "    print(\"Day with the Smallest Temperature Variation:\",low_date)\n",
    "    print(\"Minimum Temperature Difference:\", format(lowDay,\".1f\"),\"Celsius\")\n",
    "    \n",
    "\n",
    "if __name__ == \"__main__\":\n",
    "    main()"
   ]
  },
  {
   "cell_type": "code",
   "execution_count": null,
   "id": "f69b6c04",
   "metadata": {},
   "outputs": [],
   "source": []
  }
 ],
 "metadata": {
  "kernelspec": {
   "display_name": "Python 3 (ipykernel)",
   "language": "python",
   "name": "python3"
  },
  "language_info": {
   "codemirror_mode": {
    "name": "ipython",
    "version": 3
   },
   "file_extension": ".py",
   "mimetype": "text/x-python",
   "name": "python",
   "nbconvert_exporter": "python",
   "pygments_lexer": "ipython3",
   "version": "3.9.13"
  }
 },
 "nbformat": 4,
 "nbformat_minor": 5
}
