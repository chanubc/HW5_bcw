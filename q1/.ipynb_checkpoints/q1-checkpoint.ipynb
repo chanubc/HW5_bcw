{
 "cells": [
  {
   "cell_type": "code",
   "execution_count": 1,
   "id": "73174ce5",
   "metadata": {},
   "outputs": [
    {
     "name": "stdout",
     "output_type": "stream",
     "text": [
      "*** Anunual Temperature Report for Seoul in 2022 ***\n",
      "Average Temperature: 13.30 Celsius\n",
      "Average Minimum Temperature: 9.18 Celsius\n",
      "Average Maximum Temperature: 18.08 Celsius\n"
     ]
    }
   ],
   "source": [
    "import csv\n",
    "\n",
    "def main():\n",
    "    f = open('q1.csv','r',encoding='cp949')\n",
    "    data = csv.reader(f)\n",
    "    header = next(data)\n",
    "    #print(header)\n",
    "    max_temp = 0\n",
    "    low_temp =0\n",
    "    avr_temp = 0\n",
    "    avr_low = 0\n",
    "    avr_max =0\n",
    "    count = 0\n",
    "\n",
    "    for row in data:\n",
    "        if(row[-1]==''):\n",
    "            row[-1] = 0\n",
    "        row[-1] = float(row[-1])\n",
    "        if max_temp < row[-1]:\n",
    "            max_date = row[0]\n",
    "            max_temp = row[-1]\n",
    "        \n",
    "        if(row[-2]==''):\n",
    "            row[-2] = 0\n",
    "        row[-2] = float(row[-2])\n",
    "        if low_temp > row[-2]:\n",
    "            low_date = row[0]\n",
    "            low_temp = row[-2]\n",
    "            \n",
    "        #연평균 기온\n",
    "        count = count+1\n",
    "        if(row[2]==''):\n",
    "            row[2] = 0\n",
    "        row[2] = float(row[2])\n",
    "        avr_temp = row[2]+avr_temp\n",
    "        \n",
    "        #연평균 최저 기온\n",
    "        if(row[-2]==''):\n",
    "            row[-2]=0\n",
    "        row[-2] = float(row[-2])\n",
    "        avr_low = row[-2]+avr_low\n",
    "        \n",
    "        #연평균 최고 기온\n",
    "        if(row[-1]==''):\n",
    "            row[-1]=0\n",
    "        row[-1] = float(row[-1])\n",
    "        avr_max = row[-1]+avr_max\n",
    "\n",
    "\n",
    "    avr_temp = avr_temp/count\n",
    "    avr_low = avr_low/count\n",
    "    avr_max = avr_max/count\n",
    "    \n",
    "    avr = format(avr_temp,\".2f\")\n",
    "    avr_low = format(avr_low,\".2f\")\n",
    "    avr_max = format(avr_max,\".2f\")\n",
    "    \n",
    "    f.close()\n",
    "    print(\"*** Anunual Temperature Report for Seoul in 2022 ***\")\n",
    "    print(\"Average Temperature:\",avr,\"Celsius\")\n",
    "    print(\"Average Minimum Temperature:\",avr_low,\"Celsius\")\n",
    "    print(\"Average Maximum Temperature:\",avr_max,\"Celsius\")\n",
    "        \n",
    "    \n",
    "if __name__ == \"__main__\":\n",
    "    main()"
   ]
  },
  {
   "cell_type": "code",
   "execution_count": null,
   "id": "a534733c",
   "metadata": {},
   "outputs": [],
   "source": []
  }
 ],
 "metadata": {
  "kernelspec": {
   "display_name": "Python 3 (ipykernel)",
   "language": "python",
   "name": "python3"
  },
  "language_info": {
   "codemirror_mode": {
    "name": "ipython",
    "version": 3
   },
   "file_extension": ".py",
   "mimetype": "text/x-python",
   "name": "python",
   "nbconvert_exporter": "python",
   "pygments_lexer": "ipython3",
   "version": "3.9.13"
  }
 },
 "nbformat": 4,
 "nbformat_minor": 5
}
